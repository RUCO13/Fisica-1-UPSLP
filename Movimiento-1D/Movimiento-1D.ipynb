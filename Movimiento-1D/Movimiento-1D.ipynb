{
 "cells": [
  {
   "cell_type": "markdown",
   "metadata": {},
   "source": [
    "# Movimiento en una dimension\n",
    "## Posición, velocidad y rapidez\n",
    "### Posicion de un automovil en diferentes tiempos\n",
    "\n",
    "Supongamos un automovil en movimiento, podemos describir su movimiento mediante la funcion de posicion $x(t)=3t^2+2$. Entonces se puede obtener su posicion en funcion de $t$ asi como la velocidad instantanea del mismo, mediante:\n",
    "$$ v(t)= \\dfrac{dx}{dt}$$"
   ]
  },
  {
   "cell_type": "code",
   "execution_count": 1,
   "metadata": {},
   "outputs": [
    {
     "name": "stdout",
     "output_type": "stream",
     "text": [
      "|  Tiempo  |  x(t)  |  v(t)  |\n",
      "|----------+--------+--------|\n",
      "|    0     |   -1   |   5    |\n",
      "|    2     |  8.2   |  4.2   |\n",
      "|    4     |  15.8  |  3.4   |\n",
      "|    6     |  21.8  |  2.6   |\n",
      "|    8     |  26.2  |  1.8   |\n",
      "|    10    |   29   |   1    |\n",
      "|    12    |  30.2  |  0.2   |\n",
      "|    14    |  29.8  |  -0.6  |\n",
      "|    16    |  27.8  |  -1.4  |\n",
      "|    18    |  24.2  |  -2.2  |\n"
     ]
    }
   ],
   "source": [
    "import numpy as np\n",
    "from ipywidgets import interact, interactive, widgets, fixed\n",
    "import matplotlib.pyplot as plt\n",
    "from sympy import Symbol, Derivative\n",
    "from tabulate import tabulate\n",
    "\n",
    "t= Symbol('t')\n",
    "x = -0.2*t**2 +5*t-1\n",
    "v = Derivative(x,t).doit() \n",
    "\n",
    "#creamos listas vacias para posteriormente graficar el resultado\n",
    "tiempo=[]\n",
    "xpos=[]\n",
    "vel=[]\n",
    "columns = [\"Tiempo\",\"x(t)\",\"v(t)\"]\n",
    "tabla= []\n",
    "for time in range(0,20,2):\n",
    "    # guardamos en variables el valor correspondiente\n",
    "    posicion = x.evalf(subs={t:time})\n",
    "    velocidad = v.evalf(subs={t:time}) # velocidad instantanea\n",
    "    tabla.append([time,posicion,velocidad])\n",
    "    tiempo.append(time)\n",
    "    xpos.append(posicion)\n",
    "    vel.append(velocidad)\n",
    "\n",
    "print(tabulate(tabla,headers=columns,numalign=\"center\",tablefmt=\"orgtbl\"))\n",
    "\n"
   ]
  },
  {
   "cell_type": "code",
   "execution_count": 25,
   "metadata": {},
   "outputs": [
    {
     "data": {
      "application/vnd.jupyter.widget-view+json": {
       "model_id": "eebc5c96074f4ddaae2eb53dd7f70b02",
       "version_major": 2,
       "version_minor": 0
      },
      "text/plain": [
       "interactive(children=(IntSlider(value=4, description='t', max=9), Output()), _dom_classes=('widget-interact',)…"
      ]
     },
     "metadata": {},
     "output_type": "display_data"
    }
   ],
   "source": [
    "def update(t):\n",
    "    fig,(ax1,ax2) = plt.subplots(1,2,figsize=(15,5))\n",
    "    for i in range(t):\n",
    "        ax1.plot(tiempo[i],xpos[i],'or')\n",
    "        ax2.plot(tiempo[i],vel[i],'or')\n",
    "    \n",
    "    ax1.set_xlim([-0.5,18])\n",
    "    ax1.set_ylim([-2,31])\n",
    "    ax2.set_xlim([-0.5,18])\n",
    "    ax2.set_ylim([-3,6])\n",
    "  \n",
    "\n",
    "interactive(update, t=(0,len(tiempo)-1))\n"
   ]
  },
  {
   "cell_type": "code",
   "execution_count": 16,
   "metadata": {},
   "outputs": [
    {
     "data": {
      "text/plain": [
       "18"
      ]
     },
     "execution_count": 16,
     "metadata": {},
     "output_type": "execute_result"
    }
   ],
   "source": []
  }
 ],
 "metadata": {
  "kernelspec": {
   "display_name": "Python 3.9.13 ('base')",
   "language": "python",
   "name": "python3"
  },
  "language_info": {
   "codemirror_mode": {
    "name": "ipython",
    "version": 3
   },
   "file_extension": ".py",
   "mimetype": "text/x-python",
   "name": "python",
   "nbconvert_exporter": "python",
   "pygments_lexer": "ipython3",
   "version": "3.9.13"
  },
  "orig_nbformat": 4,
  "vscode": {
   "interpreter": {
    "hash": "5a792185954b6f3a19089c02688d73d51037e5be0ebbe11a7ac93b3cfbfd3a83"
   }
  }
 },
 "nbformat": 4,
 "nbformat_minor": 2
}
